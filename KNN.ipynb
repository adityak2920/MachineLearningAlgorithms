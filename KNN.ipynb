{
 "cells": [
  {
   "cell_type": "markdown",
   "metadata": {},
   "source": [
    "Define a function so that it generates 3 objects(A, B, C) with probability 0.3, 0.2, 0.5\n"
   ]
  },
  {
   "cell_type": "code",
   "execution_count": 1,
   "metadata": {},
   "outputs": [
    {
     "name": "stdout",
     "output_type": "stream",
     "text": [
      "0.3032 0.202 0.4948\n"
     ]
    }
   ],
   "source": [
    "import numpy as np\n",
    "def generate_random():\n",
    "    a = np.random.random()\n",
    "    if a<0.3:\n",
    "        return \"A\"\n",
    "    elif a>0.3 and a<0.5:\n",
    "        return \"B\"\n",
    "    else:\n",
    "        return \"C\"\n",
    "N = 10000\n",
    "a, b, c=0,0,0\n",
    "for ix in range(N):\n",
    "    k = generate_random()\n",
    "    if k is \"A\":\n",
    "        a+=1\n",
    "    elif k is \"B\":\n",
    "        b+=1\n",
    "    else:\n",
    "        c+=1\n",
    "print(float(a)/N, float(b)/N, float(c)/N)        "
   ]
  },
  {
   "cell_type": "markdown",
   "metadata": {},
   "source": [
    "# KNN"
   ]
  },
  {
   "cell_type": "code",
   "execution_count": 2,
   "metadata": {},
   "outputs": [],
   "source": [
    "import numpy as np\n",
    "import matplotlib.pyplot as plt\n",
    "%matplotlib inline\n",
    "import pandas as pd\n",
    "import cv2"
   ]
  },
  {
   "cell_type": "code",
   "execution_count": 3,
   "metadata": {},
   "outputs": [],
   "source": [
    "mean1=np.array([.3, .6])\n",
    "mean2=np.array([4.,6.])\n",
    "\n",
    "cov1=np.array([[1., .3],\n",
    "              [.3, 5.]])\n",
    "cov2=np.array([[2., 1.],\n",
    "              [1., 4.]])\n",
    "\n",
    "data1=np.random.multivariate_normal(mean1, cov1, 250)\n",
    "data2=np.random.multivariate_normal(mean2, cov2, 250)\n",
    "#print(data1.shape)\n"
   ]
  },
  {
   "cell_type": "code",
   "execution_count": 4,
   "metadata": {},
   "outputs": [
    {
     "data": {
      "image/png": "[encoded data removed]",
      "text/plain": [
       "<Figure size 432x288 with 1 Axes>"
      ]
     },
     "metadata": {},
     "output_type": "display_data"
    }
   ],
   "source": [
    "plt.figure(0)\n",
    "plt.scatter(data1[:,0], data1[:,1], color='cyan')\n",
    "plt.scatter(data2[:,0], data2[:,1], color='green')\n",
    "plt.show()"
   ]
  },
  {
   "cell_type": "markdown",
   "metadata": {},
   "source": [
    "Problem Statement\n",
    "\n",
    "Given the bunch of clusters and which class/category each point belongs to, can you predict in which class will any given point lie?"
   ]
  },
  {
   "cell_type": "code",
   "execution_count": 5,
   "metadata": {},
   "outputs": [
    {
     "name": "stdout",
     "output_type": "stream",
     "text": [
      "(500, 2)\n",
      "(500, 3)\n"
     ]
    }
   ],
   "source": [
    "data_x=np.concatenate((data1, data2), axis=0)\n",
    "print(data_x.shape)\n",
    "data_y=np.zeros((500, 1))\n",
    "data_y[250:]=1\n",
    "\n",
    "data=np.concatenate((data_x, data_y), axis=1)\n",
    "print(data.shape)"
   ]
  },
  {
   "cell_type": "code",
   "execution_count": 6,
   "metadata": {},
   "outputs": [],
   "source": [
    "def distance(v1, v2):\n",
    "    return np.linalg.norm(v1-v2)\n",
    "def knn(train, test, k=3):\n",
    "    dist=[]\n",
    "    for i in range(train.shape[0]):\n",
    "        ix=train[i,:-1]\n",
    "        iy=train[i,-1]\n",
    "        d=distance(ix, test)\n",
    "        dist.append([d,iy])\n",
    "    dk=sorted(dist, key=lambda x:x[0])[:k]\n",
    "    labels=np.array(dk)[:, -1]\n",
    "    output=np.unique(labels, return_counts=True)\n",
    "    index=np.argmax(output[1])\n",
    "    return output[0][index]\n",
    "    "
   ]
  },
  {
   "cell_type": "code",
   "execution_count": 7,
   "metadata": {},
   "outputs": [
    {
     "name": "stdout",
     "output_type": "stream",
     "text": [
      "1.0\n"
     ]
    }
   ],
   "source": [
    "np.argmax?\n",
    "x = np.array([-2, 10.0])\n",
    "print(knn(data, x, k=5))"
   ]
  },
  {
   "cell_type": "code",
   "execution_count": 8,
   "metadata": {},
   "outputs": [
    {
     "data": {
      "text/plain": [
       "(1797, 64)"
      ]
     },
     "execution_count": 8,
     "metadata": {},
     "output_type": "execute_result"
    }
   ],
   "source": [
    "from sklearn.datasets import load_digits\n",
    "load_digits(return_X_y=True)[0].shape"
   ]
  },
  {
   "cell_type": "code",
   "execution_count": 9,
   "metadata": {},
   "outputs": [
    {
     "name": "stdout",
     "output_type": "stream",
     "text": [
      "(1797, 64)\n",
      "(1797,)\n",
      "(1797, 1)\n",
      "[0 1 2 ... 8 9 8]\n"
     ]
    }
   ],
   "source": [
    "data=load_digits(return_X_y=True)\n",
    "X=data[0]\n",
    "Y=data[1]\n",
    "print(X.shape)\n",
    "print(Y.shape)#according to the output it means 1797 rows and 1 column but on output X it gives 1797 columns\n",
    "print((Y.reshape((-1,1)).shape))\n",
    "print(Y)"
   ]
  },
  {
   "cell_type": "code",
   "execution_count": 10,
   "metadata": {},
   "outputs": [
    {
     "data": {
      "image/png": "[encoded data removed]",
      "text/plain": [
       "<Figure size 432x288 with 1 Axes>"
      ]
     },
     "metadata": {},
     "output_type": "display_data"
    }
   ],
   "source": [
    "plt.figure(0)\n",
    "plt.imshow(X[562].reshape(8,8), cmap='gray')\n",
    "plt.show()"
   ]
  },
  {
   "cell_type": "code",
   "execution_count": 11,
   "metadata": {},
   "outputs": [
    {
     "name": "stdout",
     "output_type": "stream",
     "text": [
      "(1797, 65)\n",
      "(1500, 65) (297, 65)\n"
     ]
    }
   ],
   "source": [
    "ds = np.concatenate((X, Y.reshape((-1, 1))), axis=1)\n",
    "print(ds.shape)\n",
    "trainset=ds[:1500]\n",
    "testset=ds[1500:]\n",
    "print(trainset.shape, testset.shape)"
   ]
  },
  {
   "cell_type": "code",
   "execution_count": 12,
   "metadata": {},
   "outputs": [],
   "source": [
    "def test_on_set(trainset, testing, k=3):\n",
    "    pred=[]\n",
    "    succ=[]\n",
    "    for ix in range(testing.shape[0]):\n",
    "        out=knn(trainset, testing[ix,:-1], k=k)\n",
    "        pred.append(out)\n",
    "        succ.append(testing[ix, -1])\n",
    "    pred=np.array(pred)\n",
    "    succ=np.array(succ)\n",
    "    acc=float((pred==succ).sum())/len(pred)\n",
    "    print(\"Accuracy:{} with k:{}\".format(acc, k))\n",
    "    return acc\n",
    "\n"
   ]
  },
  {
   "cell_type": "code",
   "execution_count": 13,
   "metadata": {},
   "outputs": [
    {
     "name": "stdout",
     "output_type": "stream",
     "text": [
      "Accuracy:0.9562289562289562 with k:2\n",
      "Accuracy:0.9595959595959596 with k:3\n",
      "Accuracy:0.9595959595959596 with k:4\n",
      "Accuracy:0.9562289562289562 with k:5\n",
      "Accuracy:0.9461279461279462 with k:6\n",
      "Accuracy:0.9461279461279462 with k:7\n",
      "Accuracy:0.9427609427609428 with k:8\n",
      "Accuracy:0.9427609427609428 with k:9\n",
      "Accuracy:0.9427609427609428 with k:10\n",
      "Accuracy:0.9427609427609428 with k:11\n",
      "Accuracy:0.9427609427609428 with k:12\n",
      "Accuracy:0.9393939393939394 with k:13\n",
      "Accuracy:0.9427609427609428 with k:14\n",
      "Accuracy:0.9393939393939394 with k:15\n",
      "Accuracy:0.9461279461279462 with k:16\n",
      "Accuracy:0.9427609427609428 with k:17\n",
      "Accuracy:0.9393939393939394 with k:18\n"
     ]
    }
   ],
   "source": [
    "accs=[]\n",
    "kx =[2, 3, 4, 5, 6, 7, 8, 9, 10, 11, 12, 13, 14, 15, 16, 17, 18]\n",
    "for ix in kx:\n",
    "    acx=test_on_set(trainset, testset, k=ix)\n",
    "    accs.append(acx)"
   ]
  },
  {
   "cell_type": "code",
   "execution_count": 63,
   "metadata": {},
   "outputs": [
    {
     "name": "stdout",
     "output_type": "stream",
     "text": [
      "[0.9562289562289562, 0.9595959595959596, 0.9595959595959596, 0.9562289562289562, 0.9461279461279462, 0.9461279461279462, 0.9427609427609428, 0.9427609427609428, 0.9427609427609428, 0.9427609427609428, 0.9427609427609428, 0.9393939393939394, 0.9427609427609428, 0.9393939393939394, 0.9461279461279462, 0.9427609427609428, 0.9393939393939394]\n"
     ]
    },
    {
     "data": {
      "text/plain": [
       "[<matplotlib.lines.Line2D at 0x1a239fb748>]"
      ]
     },
     "execution_count": 63,
     "metadata": {},
     "output_type": "execute_result"
    },
    {
     "data": {
      "image/png": "[encoded data removed]",
      "text/plain": [
       "<matplotlib.figure.Figure at 0x1a23a05860>"
      ]
     },
     "metadata": {},
     "output_type": "display_data"
    }
   ],
   "source": [
    "print(accs)\n",
    "plt.figure(0)\n",
    "plt.grid(\"on\")\n",
    "plt.plot(accs)"
   ]
  },
  {
   "cell_type": "markdown",
   "metadata": {},
   "source": [
    "# Using sklearn for KNN"
   ]
  },
  {
   "cell_type": "code",
   "execution_count": 23,
   "metadata": {},
   "outputs": [],
   "source": [
    "from sklearn.datasets import load_digits\n",
    "datax, datay=load_digits(return_X_y=True)\n",
    "#print(datax.shape, datay.shape)\n",
    "def test(datax, datay, k):\n",
    "    neigh = KNeighborsClassifier(n_neighbors=k)\n",
    "    neigh.fit(datax[:1500], datay[:1500])\n",
    "    pred=neigh.predict(datax[1500:])\n",
    "    acc=neigh.score(datax[1500:], datay[1500:])\n",
    "    print(\"Accuracy:{} with k:{}\".format(acc, k))\n",
    "    return acc"
   ]
  },
  {
   "cell_type": "code",
   "execution_count": 24,
   "metadata": {},
   "outputs": [
    {
     "name": "stdout",
     "output_type": "stream",
     "text": [
      "Accuracy:0.9562289562289562 with k:2\n",
      "Accuracy:0.9595959595959596 with k:3\n",
      "Accuracy:0.9595959595959596 with k:4\n",
      "Accuracy:0.9562289562289562 with k:5\n",
      "Accuracy:0.9461279461279462 with k:6\n",
      "Accuracy:0.9461279461279462 with k:7\n",
      "Accuracy:0.9427609427609428 with k:8\n",
      "Accuracy:0.9427609427609428 with k:9\n",
      "Accuracy:0.9427609427609428 with k:10\n",
      "Accuracy:0.9427609427609428 with k:11\n",
      "Accuracy:0.9427609427609428 with k:12\n",
      "Accuracy:0.9393939393939394 with k:13\n",
      "Accuracy:0.9427609427609428 with k:14\n",
      "Accuracy:0.9393939393939394 with k:15\n",
      "Accuracy:0.9461279461279462 with k:16\n",
      "Accuracy:0.9427609427609428 with k:17\n",
      "Accuracy:0.9393939393939394 with k:18\n"
     ]
    }
   ],
   "source": [
    "accs=[]\n",
    "kx =[2, 3, 4, 5, 6, 7, 8, 9, 10, 11, 12, 13, 14, 15, 16, 17, 18]\n",
    "for ix in kx:\n",
    "    acx=test(datax, datay, k=ix)    \n",
    "    accs.append(acx)\n",
    "\n"
   ]
  },
  {
   "cell_type": "code",
   "execution_count": 25,
   "metadata": {},
   "outputs": [
    {
     "data": {
      "image/png": "[encoded data removed]",
      "text/plain": [
       "<matplotlib.figure.Figure at 0x1a1f3e6128>"
      ]
     },
     "metadata": {},
     "output_type": "display_data"
    }
   ],
   "source": [
    "plt.figure(0)\n",
    "plt.grid(\"on\")\n",
    "plt.plot(kx, accs, 'o-r')\n",
    "plt.show()"
   ]
  },
  {
   "cell_type": "code",
   "execution_count": null,
   "metadata": {},
   "outputs": [],
   "source": []
  }
 ],
 "metadata": {
  "kernelspec": {
   "display_name": "Python 3",
   "language": "python",
   "name": "python3"
  },
  "language_info": {
   "codemirror_mode": {
    "name": "ipython",
    "version": 3
   },
   "file_extension": ".py",
   "mimetype": "text/x-python",
   "name": "python",
   "nbconvert_exporter": "python",
   "pygments_lexer": "ipython3",
   "version": "3.6.6"
  }
 },
 "nbformat": 4,
 "nbformat_minor": 2
}
