{
 "cells": [
  {
   "cell_type": "code",
   "execution_count": 1,
   "metadata": {},
   "outputs": [],
   "source": [
    "import numpy as np\n",
    "import matplotlib.pyplot as plt\n",
    "%matplotlib inline\n",
    "import random\n",
    "from sklearn.datasets import make_regression \n",
    "import seaborn as sns"
   ]
  },
  {
   "cell_type": "code",
   "execution_count": 2,
   "metadata": {},
   "outputs": [],
   "source": [
    "Dn=2\n",
    "\n",
    "M=0.1\n",
    "\n",
    "Np=500\n",
    "\n",
    "G=200\n",
    "\n",
    "bias=4.2\n"
   ]
  },
  {
   "cell_type": "code",
   "execution_count": 4,
   "metadata": {},
   "outputs": [
    {
     "name": "stdout",
     "output_type": "stream",
     "text": [
      "(500, 1) (500,) 38.393788043270405\n"
     ]
    }
   ],
   "source": [
    "x, y, coff=make_regression(n_samples=500, n_features=1, bias=15, noise=7.1, coef=True)\n",
    "print x.shape, y.shape, coff\n",
    "#print x[:10]"
   ]
  },
  {
   "cell_type": "code",
   "execution_count": 5,
   "metadata": {},
   "outputs": [
    {
     "data": {
      "text/plain": [
       "array(38.39378804)"
      ]
     },
     "execution_count": 5,
     "metadata": {},
     "output_type": "execute_result"
    }
   ],
   "source": [
    "coff"
   ]
  },
  {
   "cell_type": "code",
   "execution_count": 6,
   "metadata": {},
   "outputs": [
    {
     "name": "stdout",
     "output_type": "stream",
     "text": [
      "(400,) (100,) (400,) (100,)\n",
      "-2.848600012809533 -98.82404912998095 2.6602386300238208 123.31163927035296\n"
     ]
    }
   ],
   "source": [
    "split=int(0.8*x.shape[0])\n",
    "xtrain=x[:split].flatten()\n",
    "xtest=x[split:].flatten()\n",
    "\n",
    "ytrain=y[:split]\n",
    "ytest=y[split:]\n",
    "\n",
    "print xtrain.shape, xtest.shape, ytrain.shape, ytest.shape\n",
    "\n",
    "m = xtrain.shape[0]\n",
    "print xtrain.min(), ytrain.min(), xtrain.max(), ytrain.max() \n",
    "#print xtrain\n"
   ]
  },
  {
   "cell_type": "code",
   "execution_count": 7,
   "metadata": {},
   "outputs": [
    {
     "name": "stdout",
     "output_type": "stream",
     "text": [
      "500\n"
     ]
    }
   ],
   "source": [
    "pop=[]\n",
    "for ix in range(Np):\n",
    "    vec=np.random.uniform(5, 50, (Dn,))\n",
    "    pop.append(vec)\n",
    "    \n",
    "print len(pop)"
   ]
  },
  {
   "cell_type": "code",
   "execution_count": 8,
   "metadata": {},
   "outputs": [],
   "source": [
    "#w = [bias, coff]"
   ]
  },
  {
   "cell_type": "code",
   "execution_count": 9,
   "metadata": {},
   "outputs": [],
   "source": [
    "def hypothesis(w):\n",
    "    return xtrain*w[0]+w[1]"
   ]
  },
  {
   "cell_type": "code",
   "execution_count": 10,
   "metadata": {},
   "outputs": [],
   "source": [
    "def f(w): \n",
    "    return ((hypothesis(w)-ytrain)**2).sum()"
   ]
  },
  {
   "cell_type": "code",
   "execution_count": 11,
   "metadata": {},
   "outputs": [],
   "source": [
    "def crossover(parent1, parent2):\n",
    "    child1=np.zeros(parent1.shape)\n",
    "    child2=np.zeros(parent2.shape)\n",
    "    \n",
    "    dim=int(parent1.shape[0]/2.0)\n",
    "    \n",
    "    child1[:dim]=parent1[:dim]\n",
    "    child1[dim:]=parent2[dim:]\n",
    "    \n",
    "    child2[:dim]=parent2[:dim]\n",
    "    child2[dim:]=parent1[dim:]\n",
    "    \n",
    "    return child1, child2"
   ]
  },
  {
   "cell_type": "code",
   "execution_count": 12,
   "metadata": {},
   "outputs": [],
   "source": [
    "def mutate(x):\n",
    "    #print x.shape\n",
    "    for ix in range(x.shape[0]):\n",
    "        R=np.random.random()\n",
    "        \n",
    "        if R < M:\n",
    "            x[ix]=np.random.uniform(10, 20)\n",
    "        else:\n",
    "            pass\n",
    "    return x    "
   ]
  },
  {
   "cell_type": "code",
   "execution_count": 13,
   "metadata": {},
   "outputs": [
    {
     "name": "stdout",
     "output_type": "stream",
     "text": [
      "Generation: 0 | Best Value: 20350.8123853\n",
      "Generation: 1 | Best Value: 20350.8123853\n",
      "Generation: 2 | Best Value: 20337.3832088\n",
      "Generation: 3 | Best Value: 20337.3832088\n",
      "Generation: 4 | Best Value: 20329.2707251\n",
      "Generation: 5 | Best Value: 20328.0255325\n",
      "Generation: 6 | Best Value: 20328.0255325\n",
      "Generation: 7 | Best Value: 20327.9658047\n",
      "Generation: 8 | Best Value: 20327.9658047\n",
      "Generation: 9 | Best Value: 20327.5997255\n",
      "Generation: 10 | Best Value: 20327.5997255\n",
      "Generation: 11 | Best Value: 20327.5997255\n",
      "Generation: 12 | Best Value: 20327.5997255\n",
      "Generation: 13 | Best Value: 20327.4572312\n",
      "Generation: 14 | Best Value: 20327.4417314\n",
      "Generation: 15 | Best Value: 20327.4417314\n",
      "Generation: 16 | Best Value: 20327.4417314\n",
      "Generation: 17 | Best Value: 20327.4417314\n",
      "Generation: 18 | Best Value: 20327.4417314\n",
      "Generation: 19 | Best Value: 20327.4417314\n",
      "Generation: 20 | Best Value: 20327.4417314\n",
      "Generation: 21 | Best Value: 20327.3281417\n",
      "Generation: 22 | Best Value: 20327.3281417\n",
      "Generation: 23 | Best Value: 20327.3281417\n",
      "Generation: 24 | Best Value: 20327.3281417\n",
      "Generation: 25 | Best Value: 20327.3281417\n",
      "Generation: 26 | Best Value: 20327.3281417\n",
      "Generation: 27 | Best Value: 20327.3281417\n",
      "Generation: 28 | Best Value: 20327.3281417\n",
      "Generation: 29 | Best Value: 20327.3281417\n",
      "Generation: 30 | Best Value: 20327.3281417\n",
      "Generation: 31 | Best Value: 20327.3281417\n",
      "Generation: 32 | Best Value: 20327.3281417\n",
      "Generation: 33 | Best Value: 20327.3281417\n",
      "Generation: 34 | Best Value: 20327.3281417\n",
      "Generation: 35 | Best Value: 20327.3281417\n",
      "Generation: 36 | Best Value: 20327.3281417\n",
      "Generation: 37 | Best Value: 20327.3281417\n",
      "Generation: 38 | Best Value: 20327.3281417\n",
      "Generation: 39 | Best Value: 20327.3281417\n",
      "Generation: 40 | Best Value: 20327.3281417\n",
      "Generation: 41 | Best Value: 20327.3281417\n",
      "Generation: 42 | Best Value: 20327.3281417\n",
      "Generation: 43 | Best Value: 20327.3281417\n",
      "Generation: 44 | Best Value: 20327.3281417\n",
      "Generation: 45 | Best Value: 20327.3281417\n",
      "Generation: 46 | Best Value: 20327.3281417\n",
      "Generation: 47 | Best Value: 20327.3281417\n",
      "Generation: 48 | Best Value: 20327.3281417\n",
      "Generation: 49 | Best Value: 20327.3281417\n",
      "Generation: 50 | Best Value: 20327.3281417\n",
      "Generation: 51 | Best Value: 20327.3281417\n",
      "Generation: 52 | Best Value: 20327.3281417\n",
      "Generation: 53 | Best Value: 20327.3281417\n",
      "Generation: 54 | Best Value: 20327.3281417\n",
      "Generation: 55 | Best Value: 20327.3281417\n",
      "Generation: 56 | Best Value: 20327.3281417\n",
      "Generation: 57 | Best Value: 20327.3281417\n",
      "Generation: 58 | Best Value: 20327.3281417\n",
      "Generation: 59 | Best Value: 20327.3281417\n",
      "Generation: 60 | Best Value: 20327.3281417\n",
      "Generation: 61 | Best Value: 20327.3281417\n",
      "Generation: 62 | Best Value: 20327.3281417\n",
      "Generation: 63 | Best Value: 20327.3281417\n",
      "Generation: 64 | Best Value: 20327.3202476\n",
      "Generation: 65 | Best Value: 20327.3202476\n",
      "Generation: 66 | Best Value: 20327.3202476\n",
      "Generation: 67 | Best Value: 20327.3202476\n",
      "Generation: 68 | Best Value: 20327.3170165\n",
      "Generation: 69 | Best Value: 20327.3170165\n",
      "Generation: 70 | Best Value: 20327.3170165\n",
      "Generation: 71 | Best Value: 20327.3170165\n",
      "Generation: 72 | Best Value: 20327.3170165\n",
      "Generation: 73 | Best Value: 20327.3170165\n",
      "Generation: 74 | Best Value: 20327.3170165\n",
      "Generation: 75 | Best Value: 20327.3170165\n",
      "Generation: 76 | Best Value: 20327.3170165\n",
      "Generation: 77 | Best Value: 20327.3170165\n",
      "Generation: 78 | Best Value: 20327.3170165\n",
      "Generation: 79 | Best Value: 20327.3170165\n",
      "Generation: 80 | Best Value: 20327.3170165\n",
      "Generation: 81 | Best Value: 20327.3170165\n",
      "Generation: 82 | Best Value: 20327.3170165\n",
      "Generation: 83 | Best Value: 20327.3170165\n",
      "Generation: 84 | Best Value: 20327.3170165\n",
      "Generation: 85 | Best Value: 20327.3170165\n",
      "Generation: 86 | Best Value: 20327.3170165\n",
      "Generation: 87 | Best Value: 20327.3170165\n",
      "Generation: 88 | Best Value: 20327.3170165\n",
      "Generation: 89 | Best Value: 20327.3170165\n",
      "Generation: 90 | Best Value: 20327.3170165\n",
      "Generation: 91 | Best Value: 20327.3170165\n",
      "Generation: 92 | Best Value: 20327.3170165\n",
      "Generation: 93 | Best Value: 20327.3170165\n",
      "Generation: 94 | Best Value: 20327.3170165\n",
      "Generation: 95 | Best Value: 20327.3170165\n",
      "Generation: 96 | Best Value: 20327.3170165\n",
      "Generation: 97 | Best Value: 20327.3170165\n",
      "Generation: 98 | Best Value: 20327.3170165\n",
      "Generation: 99 | Best Value: 20327.3170165\n",
      "Generation: 100 | Best Value: 20327.3170165\n",
      "Generation: 101 | Best Value: 20327.3170165\n",
      "Generation: 102 | Best Value: 20327.3170165\n",
      "Generation: 103 | Best Value: 20327.3170165\n",
      "Generation: 104 | Best Value: 20327.3170165\n",
      "Generation: 105 | Best Value: 20327.3170165\n",
      "Generation: 106 | Best Value: 20327.3170165\n",
      "Generation: 107 | Best Value: 20327.3170165\n",
      "Generation: 108 | Best Value: 20327.3170165\n",
      "Generation: 109 | Best Value: 20327.3170165\n",
      "Generation: 110 | Best Value: 20327.3170165\n",
      "Generation: 111 | Best Value: 20327.3170165\n",
      "Generation: 112 | Best Value: 20327.3170165\n",
      "Generation: 113 | Best Value: 20327.3170165\n",
      "Generation: 114 | Best Value: 20327.3170165\n",
      "Generation: 115 | Best Value: 20327.3170165\n",
      "Generation: 116 | Best Value: 20327.3170165\n",
      "Generation: 117 | Best Value: 20327.3170165\n",
      "Generation: 118 | Best Value: 20327.3170165\n",
      "Generation: 119 | Best Value: 20327.3170165\n",
      "Generation: 120 | Best Value: 20327.3170165\n",
      "Generation: 121 | Best Value: 20327.3170165\n",
      "Generation: 122 | Best Value: 20327.3170165\n",
      "Generation: 123 | Best Value: 20327.3170165\n",
      "Generation: 124 | Best Value: 20327.3170165\n",
      "Generation: 125 | Best Value: 20327.3170165\n",
      "Generation: 126 | Best Value: 20327.3170165\n",
      "Generation: 127 | Best Value: 20327.3170165\n",
      "Generation: 128 | Best Value: 20327.3170165\n",
      "Generation: 129 | Best Value: 20327.3170165\n",
      "Generation: 130 | Best Value: 20327.3170165\n",
      "Generation: 131 | Best Value: 20327.3170165\n",
      "Generation: 132 | Best Value: 20327.3170165\n",
      "Generation: 133 | Best Value: 20327.3170165\n",
      "Generation: 134 | Best Value: 20327.3170165\n",
      "Generation: 135 | Best Value: 20327.3170165\n",
      "Generation: 136 | Best Value: 20327.3170165\n",
      "Generation: 137 | Best Value: 20327.3170165\n",
      "Generation: 138 | Best Value: 20327.3170165\n",
      "Generation: 139 | Best Value: 20327.3170165\n",
      "Generation: 140 | Best Value: 20327.3170165\n",
      "Generation: 141 | Best Value: 20327.3170165\n",
      "Generation: 142 | Best Value: 20327.3170165\n",
      "Generation: 143 | Best Value: 20327.3170165\n",
      "Generation: 144 | Best Value: 20327.3170165\n",
      "Generation: 145 | Best Value: 20327.3170165\n",
      "Generation: 146 | Best Value: 20327.3170165\n",
      "Generation: 147 | Best Value: 20327.3170165\n",
      "Generation: 148 | Best Value: 20327.3170165\n",
      "Generation: 149 | Best Value: 20327.3170165\n",
      "Generation: 150 | Best Value: 20327.3170165\n",
      "Generation: 151 | Best Value: 20327.3170165\n",
      "Generation: 152 | Best Value: 20327.3170165\n",
      "Generation: 153 | Best Value: 20327.3170165\n",
      "Generation: 154 | Best Value: 20327.3170165\n",
      "Generation: 155 | Best Value: 20327.3170165\n",
      "Generation: 156 | Best Value: 20327.3170165\n",
      "Generation: 157 | Best Value: 20327.3170165\n",
      "Generation: 158 | Best Value: 20327.3170165\n",
      "Generation: 159 | Best Value: 20327.3170165\n",
      "Generation: 160 | Best Value: 20327.3170165\n",
      "Generation: 161 | Best Value: 20327.3170165\n",
      "Generation: 162 | Best Value: 20327.3170165\n",
      "Generation: 163 | Best Value: 20327.3170165\n",
      "Generation: 164 | Best Value: 20327.3170165\n",
      "Generation: 165 | Best Value: 20327.3170165\n",
      "Generation: 166 | Best Value: 20327.3170165\n",
      "Generation: 167 | Best Value: 20327.3170165\n",
      "Generation: 168 | Best Value: 20327.3170165\n",
      "Generation: 169 | Best Value: 20327.3170165\n",
      "Generation: 170 | Best Value: 20327.3170165\n",
      "Generation: 171 | Best Value: 20327.3170165\n",
      "Generation: 172 | Best Value: 20327.3170165\n",
      "Generation: 173 | Best Value: 20327.3170165\n",
      "Generation: 174 | Best Value: 20327.3170165\n",
      "Generation: 175 | Best Value: 20327.3170165\n",
      "Generation: 176 | Best Value: 20327.3170165\n",
      "Generation: 177 | Best Value: 20327.3170165\n",
      "Generation: 178 | Best Value: 20327.3170165\n",
      "Generation: 179 | Best Value: 20327.3170165\n",
      "Generation: 180 | Best Value: 20327.3170165\n",
      "Generation: 181 | Best Value: 20327.3170165\n",
      "Generation: 182 | Best Value: 20327.3170165\n",
      "Generation: 183 | Best Value: 20327.3170165\n",
      "Generation: 184 | Best Value: 20327.3170165\n",
      "Generation: 185 | Best Value: 20327.3170165\n",
      "Generation: 186 | Best Value: 20327.3170165\n",
      "Generation: 187 | Best Value: 20327.3170165\n",
      "Generation: 188 | Best Value: 20327.3170165\n",
      "Generation: 189 | Best Value: 20327.3170165\n",
      "Generation: 190 | Best Value: 20327.3170165\n"
     ]
    },
    {
     "name": "stdout",
     "output_type": "stream",
     "text": [
      "Generation: 191 | Best Value: 20327.3170165\n",
      "Generation: 192 | Best Value: 20327.3170165\n",
      "Generation: 193 | Best Value: 20327.3170165\n",
      "Generation: 194 | Best Value: 20327.3170165\n",
      "Generation: 195 | Best Value: 20327.3170165\n",
      "Generation: 196 | Best Value: 20327.3170165\n",
      "Generation: 197 | Best Value: 20327.3170165\n",
      "Generation: 198 | Best Value: 20327.3170165\n",
      "Generation: 199 | Best Value: 20327.3170165\n"
     ]
    }
   ],
   "source": [
    "loss=[]\n",
    "for gx in range(G):\n",
    "    pop = sorted(pop, key=lambda z: f(z))\n",
    "    print \"Generation: {} | Best Value: {}\".format(gx, f(pop[0]))\n",
    "    loss.append(f(pop[0]))\n",
    "    #print len(pop)\n",
    "    temp = []\n",
    "    \n",
    "    while not len(temp)==Np:\n",
    "        p1, p2 = random.sample(pop[:int(Np/2.0)], 2)\n",
    "        #print p1.shape\n",
    "        c1, c2 = crossover(p1, p2)\n",
    "        #print(p1)\n",
    "        c1 = mutate(c1)\n",
    "        c2 = mutate(c2)\n",
    "        \n",
    "        temp.append(c1)\n",
    "        temp.append(c2)\n",
    "    #print len(temp)\n",
    "    comb = temp + pop\n",
    "    \n",
    "    pop = sorted(comb, key=lambda z: f(z))[:Np]"
   ]
  },
  {
   "cell_type": "code",
   "execution_count": 84,
   "metadata": {},
   "outputs": [
    {
     "data": {
      "text/plain": [
       "array([ 4,  6,  8, 10, 12, 14, 16])"
      ]
     },
     "execution_count": 84,
     "metadata": {},
     "output_type": "execute_result"
    }
   ],
   "source": [
    "np.array([1, 2, 3, 4, 5,6 , 7])*2 + 2"
   ]
  },
  {
   "cell_type": "code",
   "execution_count": 14,
   "metadata": {},
   "outputs": [
    {
     "name": "stdout",
     "output_type": "stream",
     "text": [
      "[38.96150923 14.45703286]\n"
     ]
    }
   ],
   "source": [
    "print pop[0]"
   ]
  },
  {
   "cell_type": "code",
   "execution_count": null,
   "metadata": {},
   "outputs": [],
   "source": []
  }
 ],
 "metadata": {
  "kernelspec": {
   "display_name": "Python 2",
   "language": "python",
   "name": "python2"
  },
  "language_info": {
   "codemirror_mode": {
    "name": "ipython",
    "version": 2
   },
   "file_extension": ".py",
   "mimetype": "text/x-python",
   "name": "python",
   "nbconvert_exporter": "python",
   "pygments_lexer": "ipython2",
   "version": "2.7.10"
  }
 },
 "nbformat": 4,
 "nbformat_minor": 2
}
